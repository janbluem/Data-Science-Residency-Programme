{
 "cells": [
  {
   "cell_type": "markdown",
   "metadata": {},
   "source": [
    "# 1. Introduction to the Topic"
   ]
  },
  {
   "cell_type": "markdown",
   "metadata": {},
   "source": [
    "As part of my PhD, I set out to find out how customer experiences can be personalized along the customer journey. For this, it is particularly relevant to consider customer experiences from different dimensions and ideally to link them. This enables the company to view the customer as a central unit and to offer them an optimized experience at crucial touchpoints. The customer's voice serves as ideal feedback can be initiated by the company, via surveys, or by the customer, via social media, review websites or customer complaints. However, the underlying data is usually unstrcutred and therefore requires appropriate processing. Especially if this is to be done with the help of automatic algorithms rather than manually through the service employee. Especially due to the high number of customer messages and data, this is preferred nowadays.\n",
    "\n",
    "For the Data Science Program, I was provided with an SQL file of customer tickets over the last few months. This represents the digital and formalized exchange of information between the company and its customers. In the following script, we will use the provided data to give the company a better insight into its customers. The ovarching general problem is to help companys with their customer support and create better customer experience. To do this, we will first analyze the data to find out what can be done with the data. Ideally, this will be used to build a classifier that analyzes incoming customer messages in terms of topic and urgency. "
   ]
  },
  {
   "cell_type": "code",
   "execution_count": 1,
   "metadata": {},
   "outputs": [],
   "source": [
    "#Required packages\n",
    "import pandas as pd\n",
    "from pandas import json_normalize\n",
    "import json\n",
    "import re\n",
    "import numpy as np\n",
    "\n",
    "import matplotlib.pyplot as plt\n",
    "from datetime import datetime\n",
    "\n",
    "from nltk.corpus import stopwords\n",
    "from nltk.stem.snowball import SnowballStemmer\n",
    "from nltk.tokenize import word_tokenize\n",
    "from nltk.corpus import stopwords\n",
    "stemmer = SnowballStemmer(\"german\")\n",
    "stop_words = set(stopwords.words(\"german\"))\n",
    "from textblob_de import TextBlobDE as TextBlob\n",
    "\n",
    "from sklearn.feature_extraction.text import CountVectorizer\n",
    "from sklearn.feature_extraction.text import TfidfVectorizer\n",
    "from sentence_transformers import SentenceTransformer\n",
    "\n",
    "from sklearn.metrics.pairwise import cosine_similarity\n",
    "from sklearn.preprocessing import StandardScaler\n",
    "from sklearn.preprocessing import MinMaxScaler"
   ]
  },
  {
   "cell_type": "markdown",
   "metadata": {},
   "source": [
    "# 2. Exploratory Analysis of the Data"
   ]
  },
  {
   "cell_type": "markdown",
   "metadata": {},
   "source": [
    "This chapter aims at investigating and understanding the raw data in order to define the problem"
   ]
  },
  {
   "cell_type": "markdown",
   "metadata": {},
   "source": [
    "## 2.1 Loading the Dataset"
   ]
  },
  {
   "cell_type": "markdown",
   "metadata": {},
   "source": [
    "The dataset was exported from the SQL-Database by exporting the table called message to a json file. But as the valuable data was packed inside a cell, it was necessary to normalise it in order to extract the information"
   ]
  },
  {
   "cell_type": "code",
   "execution_count": 2,
   "metadata": {},
   "outputs": [
    {
     "data": {
      "text/html": [
       "<div>\n",
       "<style scoped>\n",
       "    .dataframe tbody tr th:only-of-type {\n",
       "        vertical-align: middle;\n",
       "    }\n",
       "\n",
       "    .dataframe tbody tr th {\n",
       "        vertical-align: top;\n",
       "    }\n",
       "\n",
       "    .dataframe thead th {\n",
       "        text-align: right;\n",
       "    }\n",
       "</style>\n",
       "<table border=\"1\" class=\"dataframe\">\n",
       "  <thead>\n",
       "    <tr style=\"text-align: right;\">\n",
       "      <th></th>\n",
       "      <th>id</th>\n",
       "      <th>senderid</th>\n",
       "      <th>subject</th>\n",
       "      <th>text</th>\n",
       "      <th>type</th>\n",
       "      <th>seen</th>\n",
       "      <th>issend</th>\n",
       "      <th>isinternal</th>\n",
       "      <th>attachments</th>\n",
       "      <th>ticketid</th>\n",
       "      <th>customerid</th>\n",
       "      <th>channelid</th>\n",
       "      <th>mailserviceid</th>\n",
       "      <th>uid</th>\n",
       "      <th>senddate</th>\n",
       "      <th>modified</th>\n",
       "      <th>issystem</th>\n",
       "    </tr>\n",
       "  </thead>\n",
       "  <tbody>\n",
       "    <tr>\n",
       "      <th>0</th>\n",
       "      <td>2</td>\n",
       "      <td>-3</td>\n",
       "      <td>Ghostwriter Export vom 09.03.2020 15:38</td>\n",
       "      <td>Hallo,\\n\\nZeiten für Ticket #vsm1\\nZeit am 09....</td>\n",
       "      <td>1</td>\n",
       "      <td>0</td>\n",
       "      <td>0</td>\n",
       "      <td>0</td>\n",
       "      <td>0</td>\n",
       "      <td>0</td>\n",
       "      <td>0</td>\n",
       "      <td>None</td>\n",
       "      <td>None</td>\n",
       "      <td>96a3a007dd5ccc3953f40529a9374a4a</td>\n",
       "      <td>2020-03-09 15:38:01</td>\n",
       "      <td>2020-03-09 15:38:02</td>\n",
       "      <td>1</td>\n",
       "    </tr>\n",
       "    <tr>\n",
       "      <th>1</th>\n",
       "      <td>3</td>\n",
       "      <td>-3</td>\n",
       "      <td>Ghostwriter Export vom 09.03.2020 17:02</td>\n",
       "      <td>Hallo,\\n\\nZeiten für Ticket #vsm2\\nZeit am 09....</td>\n",
       "      <td>1</td>\n",
       "      <td>0</td>\n",
       "      <td>0</td>\n",
       "      <td>0</td>\n",
       "      <td>0</td>\n",
       "      <td>0</td>\n",
       "      <td>0</td>\n",
       "      <td>None</td>\n",
       "      <td>None</td>\n",
       "      <td>ed30ff14cba97f438c9c9e7f9af38708</td>\n",
       "      <td>2020-03-09 17:02:02</td>\n",
       "      <td>2020-03-09 17:02:03</td>\n",
       "      <td>1</td>\n",
       "    </tr>\n",
       "    <tr>\n",
       "      <th>2</th>\n",
       "      <td>4</td>\n",
       "      <td>3</td>\n",
       "      <td>,#vsm3,O365: jobs@deinpflegeteam.de anlegen</td>\n",
       "      <td>Hallo Dr. Anno Diekmann.\\n\\nWir haben Ihr Anli...</td>\n",
       "      <td>1</td>\n",
       "      <td>0</td>\n",
       "      <td>0</td>\n",
       "      <td>0</td>\n",
       "      <td>0</td>\n",
       "      <td>4</td>\n",
       "      <td>4</td>\n",
       "      <td>Ticket:4</td>\n",
       "      <td>None</td>\n",
       "      <td>aacb10ada9f4fe2bbb3ca052524b07b5</td>\n",
       "      <td>2020-03-09 22:00:33</td>\n",
       "      <td>2020-03-09 22:00:33</td>\n",
       "      <td>0</td>\n",
       "    </tr>\n",
       "  </tbody>\n",
       "</table>\n",
       "</div>"
      ],
      "text/plain": [
       "  id senderid                                      subject  \\\n",
       "0  2       -3      Ghostwriter Export vom 09.03.2020 15:38   \n",
       "1  3       -3      Ghostwriter Export vom 09.03.2020 17:02   \n",
       "2  4        3  ,#vsm3,O365: jobs@deinpflegeteam.de anlegen   \n",
       "\n",
       "                                                text type seen issend  \\\n",
       "0  Hallo,\\n\\nZeiten für Ticket #vsm1\\nZeit am 09....    1    0      0   \n",
       "1  Hallo,\\n\\nZeiten für Ticket #vsm2\\nZeit am 09....    1    0      0   \n",
       "2  Hallo Dr. Anno Diekmann.\\n\\nWir haben Ihr Anli...    1    0      0   \n",
       "\n",
       "  isinternal attachments ticketid customerid channelid mailserviceid  \\\n",
       "0          0           0        0          0      None          None   \n",
       "1          0           0        0          0      None          None   \n",
       "2          0           0        4          4  Ticket:4          None   \n",
       "\n",
       "                                uid             senddate             modified  \\\n",
       "0  96a3a007dd5ccc3953f40529a9374a4a  2020-03-09 15:38:01  2020-03-09 15:38:02   \n",
       "1  ed30ff14cba97f438c9c9e7f9af38708  2020-03-09 17:02:02  2020-03-09 17:02:03   \n",
       "2  aacb10ada9f4fe2bbb3ca052524b07b5  2020-03-09 22:00:33  2020-03-09 22:00:33   \n",
       "\n",
       "  issystem  \n",
       "0        1  \n",
       "1        1  \n",
       "2        0  "
      ]
     },
     "execution_count": 2,
     "metadata": {},
     "output_type": "execute_result"
    }
   ],
   "source": [
    "df = pd.read_json('message.json')\n",
    "data = json_normalize(df['data'][2])\n",
    "data.head(3)"
   ]
  },
  {
   "cell_type": "markdown",
   "metadata": {},
   "source": [
    "## 2.2 Understanding the Data"
   ]
  },
  {
   "cell_type": "markdown",
   "metadata": {},
   "source": [
    "Unfortunately, the individual columns and the data they contain are not self-explanatory. Therefore, it is necessary to establish a context with the help of some summaries. <b>\n",
    "\n",
    "We start by looking at every column and try to understand what it represents. Therefore it is helpful to describe the table:"
   ]
  },
  {
   "cell_type": "code",
   "execution_count": 3,
   "metadata": {},
   "outputs": [
    {
     "data": {
      "text/html": [
       "<div>\n",
       "<style scoped>\n",
       "    .dataframe tbody tr th:only-of-type {\n",
       "        vertical-align: middle;\n",
       "    }\n",
       "\n",
       "    .dataframe tbody tr th {\n",
       "        vertical-align: top;\n",
       "    }\n",
       "\n",
       "    .dataframe thead th {\n",
       "        text-align: right;\n",
       "    }\n",
       "</style>\n",
       "<table border=\"1\" class=\"dataframe\">\n",
       "  <thead>\n",
       "    <tr style=\"text-align: right;\">\n",
       "      <th></th>\n",
       "      <th>id</th>\n",
       "      <th>senderid</th>\n",
       "      <th>subject</th>\n",
       "      <th>text</th>\n",
       "      <th>type</th>\n",
       "      <th>seen</th>\n",
       "      <th>issend</th>\n",
       "      <th>isinternal</th>\n",
       "      <th>attachments</th>\n",
       "      <th>ticketid</th>\n",
       "      <th>customerid</th>\n",
       "      <th>channelid</th>\n",
       "      <th>mailserviceid</th>\n",
       "      <th>uid</th>\n",
       "      <th>senddate</th>\n",
       "      <th>modified</th>\n",
       "      <th>issystem</th>\n",
       "    </tr>\n",
       "  </thead>\n",
       "  <tbody>\n",
       "    <tr>\n",
       "      <th>count</th>\n",
       "      <td>33088</td>\n",
       "      <td>33088</td>\n",
       "      <td>33088</td>\n",
       "      <td>33088</td>\n",
       "      <td>33088</td>\n",
       "      <td>33088</td>\n",
       "      <td>33088</td>\n",
       "      <td>33088</td>\n",
       "      <td>33088</td>\n",
       "      <td>33088</td>\n",
       "      <td>33088</td>\n",
       "      <td>24486</td>\n",
       "      <td>18858</td>\n",
       "      <td>18954</td>\n",
       "      <td>33088</td>\n",
       "      <td>33088</td>\n",
       "      <td>33088</td>\n",
       "    </tr>\n",
       "    <tr>\n",
       "      <th>unique</th>\n",
       "      <td>33088</td>\n",
       "      <td>82</td>\n",
       "      <td>4124</td>\n",
       "      <td>13403</td>\n",
       "      <td>6</td>\n",
       "      <td>1</td>\n",
       "      <td>2</td>\n",
       "      <td>2</td>\n",
       "      <td>2</td>\n",
       "      <td>1166</td>\n",
       "      <td>214</td>\n",
       "      <td>1321</td>\n",
       "      <td>10970</td>\n",
       "      <td>10994</td>\n",
       "      <td>12823</td>\n",
       "      <td>17991</td>\n",
       "      <td>2</td>\n",
       "    </tr>\n",
       "    <tr>\n",
       "      <th>top</th>\n",
       "      <td>20815</td>\n",
       "      <td>-3</td>\n",
       "      <td>Lesebestätigung: #dt80 Netzwerkprobleme / Zuga...</td>\n",
       "      <td></td>\n",
       "      <td>1</td>\n",
       "      <td>0</td>\n",
       "      <td>1</td>\n",
       "      <td>0</td>\n",
       "      <td>0</td>\n",
       "      <td>82</td>\n",
       "      <td>1</td>\n",
       "      <td>Ticket:707</td>\n",
       "      <td>AAMkADZmOGY2Njc2LTExMzgtNDk2OS04YjRhLTU4OWQ4MG...</td>\n",
       "      <td>8ba9541729f83666e86942596f23a106</td>\n",
       "      <td>2020-06-10 22:01:00</td>\n",
       "      <td>2020-06-10 22:01:00</td>\n",
       "      <td>1</td>\n",
       "    </tr>\n",
       "    <tr>\n",
       "      <th>freq</th>\n",
       "      <td>1</td>\n",
       "      <td>11169</td>\n",
       "      <td>7790</td>\n",
       "      <td>7799</td>\n",
       "      <td>18954</td>\n",
       "      <td>33088</td>\n",
       "      <td>32992</td>\n",
       "      <td>31969</td>\n",
       "      <td>31812</td>\n",
       "      <td>7880</td>\n",
       "      <td>12002</td>\n",
       "      <td>3242</td>\n",
       "      <td>7790</td>\n",
       "      <td>7790</td>\n",
       "      <td>390</td>\n",
       "      <td>195</td>\n",
       "      <td>17853</td>\n",
       "    </tr>\n",
       "  </tbody>\n",
       "</table>\n",
       "</div>"
      ],
      "text/plain": [
       "           id senderid                                            subject  \\\n",
       "count   33088    33088                                              33088   \n",
       "unique  33088       82                                               4124   \n",
       "top     20815       -3  Lesebestätigung: #dt80 Netzwerkprobleme / Zuga...   \n",
       "freq        1    11169                                               7790   \n",
       "\n",
       "         text   type   seen issend isinternal attachments ticketid customerid  \\\n",
       "count   33088  33088  33088  33088      33088       33088    33088      33088   \n",
       "unique  13403      6      1      2          2           2     1166        214   \n",
       "top                1      0      1          0           0       82          1   \n",
       "freq     7799  18954  33088  32992      31969       31812     7880      12002   \n",
       "\n",
       "         channelid                                      mailserviceid  \\\n",
       "count        24486                                              18858   \n",
       "unique        1321                                              10970   \n",
       "top     Ticket:707  AAMkADZmOGY2Njc2LTExMzgtNDk2OS04YjRhLTU4OWQ4MG...   \n",
       "freq          3242                                               7790   \n",
       "\n",
       "                                     uid             senddate  \\\n",
       "count                              18954                33088   \n",
       "unique                             10994                12823   \n",
       "top     8ba9541729f83666e86942596f23a106  2020-06-10 22:01:00   \n",
       "freq                                7790                  390   \n",
       "\n",
       "                   modified issystem  \n",
       "count                 33088    33088  \n",
       "unique                17991        2  \n",
       "top     2020-06-10 22:01:00        1  \n",
       "freq                    195    17853  "
      ]
     },
     "execution_count": 3,
     "metadata": {},
     "output_type": "execute_result"
    }
   ],
   "source": [
    "data.describe()"
   ]
  },
  {
   "cell_type": "markdown",
   "metadata": {},
   "source": [
    "After some first observations we can observe some information for each column:\n",
    "1. **id**: Gives every entry in the table a unique id\n",
    "2. **senderid**: Gives a unique ID to every sender of the ticket. Very likely to be the creater of the ticket, rather than the customer.\n",
    "3. **subject**: Textual data describing the subject of the message\n",
    "4. **text**: Textual data including the entire message\n",
    "5. **type**: Categorial value with 6 unique values, which require further investigation\n",
    "6. **seen/ issend/ isinternal/ attachments**: Boolean values whether the formulated requirement is fulfilled.\n",
    "7. **customerid**:  Gives a unique ID to the customer which the ticket is about. The high frequency is interesting and requires further investigation.\n",
    "8. **ticketid**: Gives a ticket a unique ID - A ticket can have multiple messages. Therefore a ticket describes on complaint.\n",
    "8. **channelid**:  Somehow a duplication of the ticketid column.\n",
    "9. **mailserverid**:  Probably gives a unique ID to the used mailservice?\n",
    "10. **uid**:  Unique id for a user? Might be somehow related to mailserviceid\n",
    "11. **senddate/ modified**: Containing the date on which the ticket was send or modified.\n",
    "12. **issystem**: Boolean value whether the ticket is created within the system - so indpendent of a customer? Further investigation needed.\n",
    "\n",
    "For some of the columns, the high frequency of a unique value are interesting and indicate that the data needs to be cleaned or that there are some very high frequency tickets. For boolean and categorial values though, this seems ok."
   ]
  },
  {
   "cell_type": "markdown",
   "metadata": {},
   "source": [
    "#### Investigation of *Type*"
   ]
  },
  {
   "cell_type": "markdown",
   "metadata": {},
   "source": [
    "As a next step, we investigate the different types of messages by filtering the dataset and describing the statistics, unique values and value counts:"
   ]
  },
  {
   "cell_type": "markdown",
   "metadata": {},
   "source": [
    "Exemplary we can use the following code:"
   ]
  },
  {
   "cell_type": "raw",
   "metadata": {},
   "source": [
    "data[data['type']=='7'].describe()\n",
    "data[data['type']=='7']['channelid'].unique()"
   ]
  },
  {
   "cell_type": "markdown",
   "metadata": {},
   "source": [
    "After investigation we highlight following observations:"
   ]
  },
  {
   "cell_type": "markdown",
   "metadata": {},
   "source": [
    "Some characteristics from investigating the individual columns:<br>\n",
    "**Type**<br>\n",
    " 1: *Nothing found*<br>\n",
    " 2: Don't have a uid nor a mailserviceid and are only notifications about changes of the status of a ticket <br>\n",
    " 4: Don't have a uid nor a mailserviceid<br>\n",
    " 5: Seem to be internal (background) messages, which are not directed towards the customer<br>\n",
    " 6: All changes without textual data and senderid = -6<br>\n",
    " 7: Seems to be notifications of a certain type, which is neglectable as it does not contain useful information; the senderid = -6<br>"
   ]
  },
  {
   "cell_type": "markdown",
   "metadata": {},
   "source": [
    "Based on the information gathered above we can decide to neglect messages of type: 5,6,7"
   ]
  },
  {
   "cell_type": "code",
   "execution_count": 4,
   "metadata": {},
   "outputs": [],
   "source": [
    "mask_type = (data['type'] == '5')|(data['type'] == '6')|(data['type'] == '7')\n",
    "newdata = data[~mask_type]"
   ]
  },
  {
   "cell_type": "markdown",
   "metadata": {},
   "source": [
    "#### Investigation of *Customerid*"
   ]
  },
  {
   "cell_type": "markdown",
   "metadata": {},
   "source": [
    "Next to the table about messages, the company supplied us with a list of active and inactive customers, which also needs to be loaded from the SQL-File. We filter the dataset so that no inactive customers are included anymore\n"
   ]
  },
  {
   "cell_type": "code",
   "execution_count": 5,
   "metadata": {},
   "outputs": [],
   "source": [
    "#Loading the customer data from exported json file\n",
    "cus = pd.read_json('customer.json')\n",
    "customer = json_normalize(cus['data'][2])\n",
    "#Identify inactive customer:\n",
    "inactive_customers = customer[customer['active']=='0']['id'].to_numpy()\n",
    "inac = newdata['customerid'].isin(inactive_customers)\n",
    "#Filter the dataset, so that no inactive customers are included anymore.\n",
    "newdata = newdata[~inac]"
   ]
  },
  {
   "cell_type": "markdown",
   "metadata": {},
   "source": [
    "The investigation of the customer data also shows that the cusotmer ID 1 is assigned to the owner - and is therefore used for test purposes. Also the cusotmer ID 0 is not assigned to an exisiting customer.<br>\n",
    "We exclude all messages with customerid = 1 or 0 "
   ]
  },
  {
   "cell_type": "code",
   "execution_count": 6,
   "metadata": {},
   "outputs": [],
   "source": [
    "newmask = (newdata['customerid'] == '1')|(newdata['customerid'] == '0')\n",
    "filtered_data = newdata[~newmask]"
   ]
  },
  {
   "cell_type": "markdown",
   "metadata": {},
   "source": [
    "#### Investigation of *Subject*"
   ]
  },
  {
   "cell_type": "markdown",
   "metadata": {},
   "source": [
    "By inspecting the value count of subjects, we can see the high frequency of unique values occurs to a repeated message:"
   ]
  },
  {
   "cell_type": "code",
   "execution_count": 7,
   "metadata": {},
   "outputs": [
    {
     "data": {
      "text/plain": [
       "Lesebestätigung: #dt80 Netzwerkprobleme / Zugangsdaten Panda                 7790\n",
       "Das Ticket #dt710 hat sich geändert                                           212\n",
       "Es wurden weitere Information zum Ticket #dt710 hinzugefügt                   211\n",
       "Unzustellbar: Es wurden weitere Information zum Ticket #dt710 hinzugefügt     186\n",
       "Das Ticket #dt1147 hat sich geändert                                           29\n",
       "                                                                             ... \n",
       "Der Status Ihres Tickets #dt839 hat sich geändert                               1\n",
       "Es wurden weitere Information zum Ticket #dt456 hinzugefügt                     1\n",
       "Versandart Shop                                                                 1\n",
       "Ihr Fall wurde aufgenommen, Ticket #dt517                                       1\n",
       "Sie haben ein neues Ticket #dt643                                               1\n",
       "Name: subject, Length: 3467, dtype: int64"
      ]
     },
     "execution_count": 7,
     "metadata": {},
     "output_type": "execute_result"
    }
   ],
   "source": [
    "filtered_data['subject'].value_counts()"
   ]
  },
  {
   "cell_type": "markdown",
   "metadata": {},
   "source": [
    "Hence we clean the table for this message, as it does not contain any information:"
   ]
  },
  {
   "cell_type": "code",
   "execution_count": 8,
   "metadata": {},
   "outputs": [],
   "source": [
    "subjectmask = filtered_data['subject'] =='Lesebestätigung: #dt80 Netzwerkprobleme / Zugangsdaten Panda'\n",
    "filtered_data = filtered_data[~subjectmask]"
   ]
  },
  {
   "cell_type": "markdown",
   "metadata": {},
   "source": [
    "#### Investigation of *Ticketid*"
   ]
  },
  {
   "cell_type": "markdown",
   "metadata": {},
   "source": [
    "If ticketid is equal 0 this means that there are either background processes or some background data as addresses of individual customers have been changed - hence no ticketid was assigned and no interaction with the customer occurs. The information was observed by following code:"
   ]
  },
  {
   "cell_type": "raw",
   "metadata": {},
   "source": [
    "filtered_data[filtered_data['ticketid']=='0']['subject'].value_counts()"
   ]
  },
  {
   "cell_type": "code",
   "execution_count": 9,
   "metadata": {},
   "outputs": [],
   "source": [
    "# Hence we filter the data\n",
    "ticketidmask = filtered_data['ticketid']=='0'\n",
    "filtered_data = filtered_data[~ticketidmask]"
   ]
  },
  {
   "cell_type": "markdown",
   "metadata": {},
   "source": [
    "#### Dealing with *Duplication*"
   ]
  },
  {
   "cell_type": "markdown",
   "metadata": {},
   "source": [
    "For duplications, we check whether a messages information is equal on text, various IDs and the subject. By doing this we control for tickets which are sent twice or three times after each other"
   ]
  },
  {
   "cell_type": "code",
   "execution_count": 10,
   "metadata": {},
   "outputs": [],
   "source": [
    "dupl = filtered_data.duplicated(['text','customerid','ticketid','channelid','subject'])\n",
    "filtered_data = filtered_data[~dupl]"
   ]
  },
  {
   "cell_type": "code",
   "execution_count": 11,
   "metadata": {},
   "outputs": [
    {
     "data": {
      "text/html": [
       "<div>\n",
       "<style scoped>\n",
       "    .dataframe tbody tr th:only-of-type {\n",
       "        vertical-align: middle;\n",
       "    }\n",
       "\n",
       "    .dataframe tbody tr th {\n",
       "        vertical-align: top;\n",
       "    }\n",
       "\n",
       "    .dataframe thead th {\n",
       "        text-align: right;\n",
       "    }\n",
       "</style>\n",
       "<table border=\"1\" class=\"dataframe\">\n",
       "  <thead>\n",
       "    <tr style=\"text-align: right;\">\n",
       "      <th></th>\n",
       "      <th>id</th>\n",
       "      <th>senderid</th>\n",
       "      <th>subject</th>\n",
       "      <th>text</th>\n",
       "      <th>type</th>\n",
       "      <th>seen</th>\n",
       "      <th>issend</th>\n",
       "      <th>isinternal</th>\n",
       "      <th>attachments</th>\n",
       "      <th>ticketid</th>\n",
       "      <th>customerid</th>\n",
       "      <th>channelid</th>\n",
       "      <th>mailserviceid</th>\n",
       "      <th>uid</th>\n",
       "      <th>senddate</th>\n",
       "      <th>modified</th>\n",
       "      <th>issystem</th>\n",
       "    </tr>\n",
       "  </thead>\n",
       "  <tbody>\n",
       "    <tr>\n",
       "      <th>count</th>\n",
       "      <td>6605</td>\n",
       "      <td>6605</td>\n",
       "      <td>6605</td>\n",
       "      <td>6605</td>\n",
       "      <td>6605</td>\n",
       "      <td>6605</td>\n",
       "      <td>6605</td>\n",
       "      <td>6605</td>\n",
       "      <td>6605</td>\n",
       "      <td>6605</td>\n",
       "      <td>6605</td>\n",
       "      <td>6091</td>\n",
       "      <td>3905</td>\n",
       "      <td>3911</td>\n",
       "      <td>6605</td>\n",
       "      <td>6605</td>\n",
       "      <td>6605</td>\n",
       "    </tr>\n",
       "    <tr>\n",
       "      <th>unique</th>\n",
       "      <td>6605</td>\n",
       "      <td>81</td>\n",
       "      <td>3311</td>\n",
       "      <td>6425</td>\n",
       "      <td>3</td>\n",
       "      <td>1</td>\n",
       "      <td>2</td>\n",
       "      <td>2</td>\n",
       "      <td>2</td>\n",
       "      <td>842</td>\n",
       "      <td>117</td>\n",
       "      <td>842</td>\n",
       "      <td>3885</td>\n",
       "      <td>3897</td>\n",
       "      <td>2972</td>\n",
       "      <td>4425</td>\n",
       "      <td>2</td>\n",
       "    </tr>\n",
       "    <tr>\n",
       "      <th>top</th>\n",
       "      <td>17548</td>\n",
       "      <td>3</td>\n",
       "      <td>Das Ticket #dt710 hat sich geändert</td>\n",
       "      <td></td>\n",
       "      <td>1</td>\n",
       "      <td>0</td>\n",
       "      <td>1</td>\n",
       "      <td>0</td>\n",
       "      <td>0</td>\n",
       "      <td>713</td>\n",
       "      <td>3</td>\n",
       "      <td>Ticket:713</td>\n",
       "      <td>AAMkADZmOGY2Njc2LTExMzgtNDk2OS04YjRhLTU4OWQ4MG...</td>\n",
       "      <td>b37731eec3334c11197b7c2a9869b408</td>\n",
       "      <td>2020-06-10 22:01:00</td>\n",
       "      <td>2020-06-10 22:01:00</td>\n",
       "      <td>0</td>\n",
       "    </tr>\n",
       "    <tr>\n",
       "      <th>freq</th>\n",
       "      <td>1</td>\n",
       "      <td>2066</td>\n",
       "      <td>190</td>\n",
       "      <td>7</td>\n",
       "      <td>3911</td>\n",
       "      <td>6605</td>\n",
       "      <td>6599</td>\n",
       "      <td>5629</td>\n",
       "      <td>5645</td>\n",
       "      <td>382</td>\n",
       "      <td>1867</td>\n",
       "      <td>382</td>\n",
       "      <td>3</td>\n",
       "      <td>2</td>\n",
       "      <td>366</td>\n",
       "      <td>183</td>\n",
       "      <td>3400</td>\n",
       "    </tr>\n",
       "  </tbody>\n",
       "</table>\n",
       "</div>"
      ],
      "text/plain": [
       "           id senderid                              subject  text  type  seen  \\\n",
       "count    6605     6605                                 6605  6605  6605  6605   \n",
       "unique   6605       81                                 3311  6425     3     1   \n",
       "top     17548        3  Das Ticket #dt710 hat sich geändert           1     0   \n",
       "freq        1     2066                                  190     7  3911  6605   \n",
       "\n",
       "       issend isinternal attachments ticketid customerid   channelid  \\\n",
       "count    6605       6605        6605     6605       6605        6091   \n",
       "unique      2          2           2      842        117         842   \n",
       "top         1          0           0      713          3  Ticket:713   \n",
       "freq     6599       5629        5645      382       1867         382   \n",
       "\n",
       "                                            mailserviceid  \\\n",
       "count                                                3905   \n",
       "unique                                               3885   \n",
       "top     AAMkADZmOGY2Njc2LTExMzgtNDk2OS04YjRhLTU4OWQ4MG...   \n",
       "freq                                                    3   \n",
       "\n",
       "                                     uid             senddate  \\\n",
       "count                               3911                 6605   \n",
       "unique                              3897                 2972   \n",
       "top     b37731eec3334c11197b7c2a9869b408  2020-06-10 22:01:00   \n",
       "freq                                   2                  366   \n",
       "\n",
       "                   modified issystem  \n",
       "count                  6605     6605  \n",
       "unique                 4425        2  \n",
       "top     2020-06-10 22:01:00        0  \n",
       "freq                    183     3400  "
      ]
     },
     "execution_count": 11,
     "metadata": {},
     "output_type": "execute_result"
    }
   ],
   "source": [
    "filtered_data.describe()"
   ]
  },
  {
   "cell_type": "markdown",
   "metadata": {},
   "source": [
    "## 2.3 First Insights by Conducting Statistical Analysis of the Data"
   ]
  },
  {
   "cell_type": "markdown",
   "metadata": {},
   "source": [
    "Analysing the efficiency of ticket reponses by reviewing the number of changes per ticket"
   ]
  },
  {
   "cell_type": "code",
   "execution_count": 12,
   "metadata": {},
   "outputs": [
    {
     "name": "stdout",
     "output_type": "stream",
     "text": [
      "The average number of changes per ticket is: 2.9689119170984455\n",
      "But as we can see, the median (2.0) is much lower as indicated by the outliner in Ticket 713.\n",
      "\n",
      "\n"
     ]
    },
    {
     "data": {
      "image/png": "[encoded data removed]",
      "text/plain": [
       "<Figure size 2160x360 with 1 Axes>"
      ]
     },
     "metadata": {
      "needs_background": "light"
     },
     "output_type": "display_data"
    }
   ],
   "source": [
    "filtered_data[filtered_data['type']=='2']['ticketid'].value_counts().head(30).plot(kind='bar', title = 'Top 30 number of changes per Ticket', xlabel = 'Ticket ID', ylabel = 'Number of Changes', figsize = (30,5));\n",
    "median = filtered_data[filtered_data['type']=='2']['ticketid'].value_counts().median()\n",
    "mean = filtered_data[filtered_data['type']=='2']['ticketid'].value_counts().mean()\n",
    "print(f'The average number of changes per ticket is: {mean}\\nBut as we can see, the median ({median}) is much lower as indicated by the outliner in Ticket 713.\\n\\n')"
   ]
  },
  {
   "cell_type": "markdown",
   "metadata": {},
   "source": [
    "We can also have a look at the customers, which require the most attention due to high frequency of new tickets or changes to existing tickets"
   ]
  },
  {
   "cell_type": "code",
   "execution_count": 13,
   "metadata": {},
   "outputs": [
    {
     "data": {
      "image/png": "[encoded data removed]",
      "text/plain": [
       "<Figure size 2160x360 with 1 Axes>"
      ]
     },
     "metadata": {
      "needs_background": "light"
     },
     "output_type": "display_data"
    }
   ],
   "source": [
    "filtered_data['customerid'].value_counts().head(30).plot(kind='bar', title = 'Top 30 Customers', xlabel = 'Customer ID', ylabel = 'Number of Messages', figsize = (30,5));"
   ]
  },
  {
   "cell_type": "markdown",
   "metadata": {},
   "source": [
    "Graph which shows the number of different tickets per customer"
   ]
  },
  {
   "cell_type": "code",
   "execution_count": 14,
   "metadata": {},
   "outputs": [
    {
     "data": {
      "image/png": "[encoded data removed]",
      "text/plain": [
       "<Figure size 2160x360 with 1 Axes>"
      ]
     },
     "metadata": {
      "needs_background": "light"
     },
     "output_type": "display_data"
    }
   ],
   "source": [
    "tick_per_cus = filtered_data.groupby('customerid')['ticketid'].nunique().sort_values(ascending = False).head(30)\n",
    "tick_per_cus.plot.bar(stacked = True, legend = False, title = 'Number of individual tickets per top 30 customer', xlabel = 'Customer ID', ylabel = 'Number of individual tickets', figsize = (30,5));"
   ]
  },
  {
   "cell_type": "markdown",
   "metadata": {},
   "source": [
    "This shows for example that customer 18 had one very heavy ticket/ problem, whereas customer 10 apperently has a lot of problems occuring over time"
   ]
  },
  {
   "cell_type": "markdown",
   "metadata": {},
   "source": [
    "As a next step we can conduct some analysis according to the timely development of tickets by plotting their occurrence over time"
   ]
  },
  {
   "cell_type": "code",
   "execution_count": 15,
   "metadata": {},
   "outputs": [],
   "source": [
    "# Transform the type of data supplied to a useable format\n",
    "Date = []\n",
    "month = []\n",
    "year = []\n",
    "for i in filtered_data['senddate']:\n",
    "    Date.append(i.split(' ')[0])\n",
    "    year.append(i.split('-')[0])\n",
    "    month.append(i.split('-')[1])\n",
    "filtered_data['Date'] = Date\n",
    "filtered_data['Year'] = year\n",
    "filtered_data['Month'] = month"
   ]
  },
  {
   "cell_type": "markdown",
   "metadata": {},
   "source": [
    "Now we can plot the Utilization of tickets over the last year"
   ]
  },
  {
   "cell_type": "code",
   "execution_count": 16,
   "metadata": {},
   "outputs": [
    {
     "name": "stdout",
     "output_type": "stream",
     "text": [
      "Note We have to consider here that in February 2021 is only the first few days are included \n"
     ]
    },
    {
     "data": {
      "image/png": "[encoded data removed]",
      "text/plain": [
       "<Figure size 2160x360 with 1 Axes>"
      ]
     },
     "metadata": {
      "needs_background": "light"
     },
     "output_type": "display_data"
    }
   ],
   "source": [
    "filtered_data.groupby(['Year','Month'])['ticketid'].count().plot(kind = 'line', legend = False, figsize = (30,5),title = 'Utility',ylabel='Number of Tickets');\n",
    "print('Note We have to consider here that in February 2021 is only the first few days are included ')"
   ]
  },
  {
   "cell_type": "code",
   "execution_count": 17,
   "metadata": {},
   "outputs": [
    {
     "data": {
      "image/png": "[encoded data removed]",
      "text/plain": [
       "<Figure size 720x360 with 1 Axes>"
      ]
     },
     "metadata": {
      "needs_background": "light"
     },
     "output_type": "display_data"
    }
   ],
   "source": [
    "#Calculate the length of a ticket\n",
    "ticket_unique = filtered_data['ticketid'].unique()\n",
    "diff = []\n",
    "for i in ticket_unique:\n",
    "    fil = filtered_data[filtered_data['ticketid']==i]\n",
    "    d1 = datetime.strptime(fil['Date'].max(), \"%Y-%m-%d\")\n",
    "    d2 = datetime.strptime(fil['Date'].min(), \"%Y-%m-%d\")\n",
    "    diff.append(abs((d2 - d1).days))\n",
    "\n",
    "length_ticket = pd.DataFrame({'ticketid':ticket_unique, 'length':diff})\n",
    "\n",
    "#Plot the longest and shortest tickets\n",
    "top_length = length_ticket.sort_values(by='length', ascending = False).head(20)\n",
    "top_length.set_index('ticketid', inplace = True)\n",
    "top_length.plot(kind = 'barh', title = 'Length of longest lasting Tickets in Days', xlabel = 'Ticket ID', ylabel = 'Days', figsize = (10,5), legend = False);"
   ]
  },
  {
   "cell_type": "markdown",
   "metadata": {},
   "source": [
    "To summarise, the above graphs give a first indication of heavily involved customers and tickets. For a company these can serve as a starting point of further analysis to increase the efficiency to solve the customer complaints"
   ]
  },
  {
   "cell_type": "markdown",
   "metadata": {},
   "source": [
    "# 3 Defining the Problem"
   ]
  },
  {
   "cell_type": "markdown",
   "metadata": {},
   "source": [
    "**Idea**: Building a prioritisation system for incoming tickets:\n",
    "\n",
    "We want to predict the severeness of the ticket in order to prioritise them. Therefore, we train a classification system, which allows us to predict urgency of the inocming problem"
   ]
  },
  {
   "cell_type": "markdown",
   "metadata": {},
   "source": [
    "## 4 Extracting Relevant Information"
   ]
  },
  {
   "cell_type": "markdown",
   "metadata": {},
   "source": [
    "## 4.1 Identifying Common Problems"
   ]
  },
  {
   "cell_type": "markdown",
   "metadata": {},
   "source": [
    "By analysing the strucutre of each ticket, we identify, that the problem is displayed in each new ticket (a ticket whose subject contains :'Sie haben eine neues Ticket') and is described after the word: 'Problem'"
   ]
  },
  {
   "cell_type": "code",
   "execution_count": 18,
   "metadata": {},
   "outputs": [],
   "source": [
    "# We create a DataFrame, which contains all the problem descriptions from the textual data\n",
    "problem = []\n",
    "\n",
    "for i in filtered_data[filtered_data['subject'].str.contains(r'Sie haben ein neues Ticket')]['text']:\n",
    "    if 'Problem' in i:\n",
    "        total = i.split('Problem',1)[1]\n",
    "        tot2 = total.split('Hier geht es zum Ticket:')[0] #Because after this phrase no information is stored\n",
    "        tot3 = total.split('liebe Grüße')[0] #After this greeting ususally no information is stored\n",
    "        problem.append(tot3.split('Mit freundlichen Grüßen')[0]) #After this greeting ususally no information is stored\n",
    "    else:\n",
    "        continue\n",
    "probl = pd.DataFrame(problem, columns = ['Problem Description'])"
   ]
  },
  {
   "cell_type": "markdown",
   "metadata": {},
   "source": [
    "We can now use the problem description as basis for our classification model."
   ]
  },
  {
   "cell_type": "markdown",
   "metadata": {},
   "source": [
    "## 4.2 Extracting Keywords Describing the Problem"
   ]
  },
  {
   "cell_type": "markdown",
   "metadata": {},
   "source": [
    "**Pre-Processing**"
   ]
  },
  {
   "cell_type": "code",
   "execution_count": 19,
   "metadata": {},
   "outputs": [],
   "source": [
    "#Clean the text\n",
    "def clean_text(text, for_embedding=False):\n",
    "\n",
    "    RE_WSPACE = re.compile(r\"\\s+\", re.IGNORECASE)\n",
    "    RE_TAGS = re.compile(r\"<[^>]+>\")\n",
    "    RE_ASCII = re.compile(r\"[^A-Za-zÀ-ž ]\", re.IGNORECASE)\n",
    "    RE_SINGLECHAR = re.compile(r\"\\b[A-Za-zÀ-ž]\\b\", re.IGNORECASE)\n",
    "    if for_embedding:\n",
    "        # Keep punctuation\n",
    "        RE_ASCII = re.compile(r\"[^A-Za-zÀ-ž,.!? ]\", re.IGNORECASE)\n",
    "        RE_SINGLECHAR = re.compile(r\"\\b[A-Za-zÀ-ž,.!?]\\b\", re.IGNORECASE)\n",
    "\n",
    "    text = re.sub(RE_TAGS, \" \", text)\n",
    "    text = re.sub(RE_ASCII, \" \", text)\n",
    "    text = re.sub(RE_SINGLECHAR, \" \", text)\n",
    "    text = re.sub(RE_WSPACE, \" \", text)\n",
    "\n",
    "    word_tokens = word_tokenize(text)\n",
    "    words_tokens_lower = [word.lower() for word in word_tokens]\n",
    "\n",
    "    if for_embedding:\n",
    "        words_filtered = word_tokens\n",
    "    else:\n",
    "        words_filtered = [\n",
    "            word for word in words_tokens_lower if word not in stop_words\n",
    "        ]\n",
    "    text_clean = \" \".join(words_filtered)\n",
    "    return text_clean"
   ]
  },
  {
   "cell_type": "code",
   "execution_count": 20,
   "metadata": {},
   "outputs": [],
   "source": [
    "cleaned_probl = []\n",
    "for i in probl['Problem Description']:\n",
    "    clean = clean_text(i)\n",
    "    cleaned_probl.append(clean) "
   ]
  },
  {
   "cell_type": "markdown",
   "metadata": {},
   "source": [
    "**Compute TF-IDF**"
   ]
  },
  {
   "cell_type": "code",
   "execution_count": 21,
   "metadata": {},
   "outputs": [],
   "source": [
    "vectorizer = TfidfVectorizer(ngram_range=(2,3),smooth_idf=False)\n",
    "X = vectorizer.fit_transform(cleaned_probl)\n",
    "word_vector = pd.Series(vectorizer.vocabulary_)"
   ]
  },
  {
   "cell_type": "code",
   "execution_count": 22,
   "metadata": {},
   "outputs": [],
   "source": [
    "#Filter to the top 10% of the keywords:\n",
    "top10_num = round(word_vector.shape[0]*0.1)\n",
    "top10 = word_vector.sort_values(ascending=False).head(top10_num)"
   ]
  },
  {
   "cell_type": "markdown",
   "metadata": {},
   "source": [
    "**Alternatively we can use the Language Model BERT to extract the keywords**"
   ]
  },
  {
   "cell_type": "code",
   "execution_count": 23,
   "metadata": {},
   "outputs": [],
   "source": [
    "# As a next step we take the problem description to identify the most common keywords. These can later be used to filter incomming messages\n",
    "n_gram_range = (2, 4)\n",
    "stop_words = stopwords.words('german')\n",
    "\n",
    "# Extract candidate words/phrases\n",
    "candidates = []\n",
    "for i in probl['Problem Description']:\n",
    "    count = CountVectorizer(ngram_range=n_gram_range, stop_words=stop_words).fit([i])\n",
    "    for n in count.get_feature_names():\n",
    "        candidates.append(n)\n",
    "        \n",
    "# Clean the data for numerical values:\n",
    "removal_list = []\n",
    "for i in candidates:\n",
    "    if bool(re.search(r'\\d+', i)):\n",
    "        removal_list.append(i)\n",
    "for i in removal_list: candidates.remove(i)"
   ]
  },
  {
   "cell_type": "code",
   "execution_count": 24,
   "metadata": {},
   "outputs": [],
   "source": [
    "#Using Bert to calculate embeddings for our document and the candidates within the document\n",
    "#Problem: This embedding takes very long to compute and seems like extreme overengineering\n",
    "model = SentenceTransformer('distilbert-base-nli-mean-tokens')\n",
    "doc_embedding = model.encode(probl['Problem Description'].to_list())\n",
    "candidate_embeddings = model.encode(candidates)"
   ]
  },
  {
   "cell_type": "code",
   "execution_count": 25,
   "metadata": {},
   "outputs": [],
   "source": [
    "#Define top 1000 keywords\n",
    "top_n = 1000\n",
    "distances = cosine_similarity(doc_embedding, candidate_embeddings)\n",
    "keywords = [candidates[index] for index in distances.argsort()[0][-top_n:]]"
   ]
  },
  {
   "cell_type": "markdown",
   "metadata": {},
   "source": [
    "After now the keywords have been identified, we can see how many of the top keywords are included in one problem description:"
   ]
  },
  {
   "cell_type": "code",
   "execution_count": 26,
   "metadata": {},
   "outputs": [],
   "source": [
    "#We initiate a DataFrame containing the information\n",
    "Class_data = pd.DataFrame({'Problem Description':cleaned_probl})"
   ]
  },
  {
   "cell_type": "code",
   "execution_count": 27,
   "metadata": {},
   "outputs": [],
   "source": [
    "occurrence = []\n",
    "for n in cleaned_probl:\n",
    "    num = 0\n",
    "    for i in top10.index.to_list():\n",
    "        if i in n:\n",
    "            num = num+1\n",
    "        else:\n",
    "            continue\n",
    "    occurrence.append(num)\n",
    "Class_data['occurrence_TIFIDF'] = occurrence"
   ]
  },
  {
   "cell_type": "code",
   "execution_count": 28,
   "metadata": {},
   "outputs": [],
   "source": [
    "occurrence_BERT = []\n",
    "for n in cleaned_probl:\n",
    "    num = 0\n",
    "    for i in keywords:\n",
    "        if i in n:\n",
    "            num = num+1\n",
    "        else:\n",
    "            continue\n",
    "    occurrence_BERT.append(num)\n",
    "Class_data['occurrence_BERT'] = occurrence_BERT"
   ]
  },
  {
   "cell_type": "markdown",
   "metadata": {},
   "source": [
    "### 4.3 Computing the Polarity and Subjectivity of the problem description"
   ]
  },
  {
   "cell_type": "code",
   "execution_count": 29,
   "metadata": {},
   "outputs": [],
   "source": [
    "polarity = []\n",
    "subjectivity = []\n",
    "for i in cleaned_probl:\n",
    "    polarity.append(TextBlob(i).sentiment.polarity)\n",
    "    subjectivity.append(TextBlob(i).sentiment.subjectivity)\n",
    "\n",
    "Class_data['Polarity'] = polarity\n",
    "Class_data['Subjectivity'] = subjectivity\n",
    "Class_data = Class_data[Class_data.duplicated(['Problem Description','Polarity', 'Subjectivity'])]"
   ]
  },
  {
   "cell_type": "markdown",
   "metadata": {},
   "source": [
    "# 5. Building a Classifier"
   ]
  },
  {
   "cell_type": "markdown",
   "metadata": {},
   "source": [
    "## 5.1 Labelling our Data"
   ]
  },
  {
   "cell_type": "markdown",
   "metadata": {},
   "source": [
    "Usually, classification models are built based on already labeled data. In this case, however, we have to do the labeling of the data ourselves, since this has not been done by the company. For this we decide ourselves on the variables determined above. These help us to determine the priority of a customer message."
   ]
  },
  {
   "cell_type": "markdown",
   "metadata": {},
   "source": [
    "**Variables**<br>\n",
    "* The lower the polarity the more important the customer message, because dissatisfied customers tend to jump ship. In addition, this is an indicator of urgency <br>\n",
    "* The higher the subjectivitiy the more important the customer compaint. The more formal language is abandoned, the greater the likelihood that the client needs urgent help because he is desperate.<br>\n",
    "* The more keywords are contained within the problem description the higher the likelihood that the reported problem is important"
   ]
  },
  {
   "cell_type": "code",
   "execution_count": 30,
   "metadata": {},
   "outputs": [],
   "source": [
    "def preprocess(column):\n",
    "    standardscaler = StandardScaler()\n",
    "    df_copy[column] = standardscaler.fit_transform(df_copy[column].values.reshape(-1, 1))\n",
    "    \n",
    "    normscaler = MinMaxScaler()\n",
    "    df_copy[column]=normscaler.fit_transform(df_copy[column].values.reshape(-1, 1))"
   ]
  },
  {
   "cell_type": "code",
   "execution_count": 31,
   "metadata": {},
   "outputs": [],
   "source": [
    "df_copy = Class_data\n",
    "for i in ['Polarity', 'Subjectivity', 'occurrence_TIFIDF','occurrence_BERT']: preprocess(i)"
   ]
  },
  {
   "cell_type": "markdown",
   "metadata": {},
   "source": [
    "Now we score the individual columns with a sum function according to our variables:<br>\n",
    "The signs we use are the following:<br>\n",
    "* Polarity: *Negative*<br>\n",
    "* Subjectivity: *Positive*<br>\n",
    "* Occurrence: *Positive*"
   ]
  },
  {
   "cell_type": "code",
   "execution_count": 32,
   "metadata": {},
   "outputs": [],
   "source": [
    "df_copy['Score'] = df_copy['Subjectivity']+df_copy['occurrence_TIFIDF']*0.5+df_copy['occurrence_BERT']*0.5-df_copy['Polarity']"
   ]
  },
  {
   "cell_type": "markdown",
   "metadata": {},
   "source": [
    "If we now consider that companies have only limited time, we can use the Pareto principle to allocate time optimally. Similar to the ABC analysis, the problems can be periodized. Thus we assume that the top 20% of the messages in category 1 correspond to approximately 70% of the expenditure, the following 30% further 25% and the last 50% only 5%. This is how we define our groups.<br>\n",
    "* Group 1: Top 20%<br>\n",
    "* Group 2: Following 30%<br>\n",
    "* Group 3: Last 50%<br>"
   ]
  },
  {
   "cell_type": "code",
   "execution_count": 33,
   "metadata": {},
   "outputs": [
    {
     "data": {
      "text/html": [
       "<div>\n",
       "<style scoped>\n",
       "    .dataframe tbody tr th:only-of-type {\n",
       "        vertical-align: middle;\n",
       "    }\n",
       "\n",
       "    .dataframe tbody tr th {\n",
       "        vertical-align: top;\n",
       "    }\n",
       "\n",
       "    .dataframe thead th {\n",
       "        text-align: right;\n",
       "    }\n",
       "</style>\n",
       "<table border=\"1\" class=\"dataframe\">\n",
       "  <thead>\n",
       "    <tr style=\"text-align: right;\">\n",
       "      <th></th>\n",
       "      <th>Problem Description</th>\n",
       "      <th>occurrence_TIFIDF</th>\n",
       "      <th>occurrence_BERT</th>\n",
       "      <th>Polarity</th>\n",
       "      <th>Subjectivity</th>\n",
       "      <th>Score</th>\n",
       "    </tr>\n",
       "  </thead>\n",
       "  <tbody>\n",
       "    <tr>\n",
       "      <th>3</th>\n",
       "      <td>geehrter herr bartels funktioniert neues noteb...</td>\n",
       "      <td>0.148936</td>\n",
       "      <td>0.138889</td>\n",
       "      <td>0.616667</td>\n",
       "      <td>0.0</td>\n",
       "      <td>-0.472754</td>\n",
       "    </tr>\n",
       "    <tr>\n",
       "      <th>7</th>\n",
       "      <td>hallo bitte folgenden ordner stand vorher wied...</td>\n",
       "      <td>0.085106</td>\n",
       "      <td>0.000000</td>\n",
       "      <td>0.850000</td>\n",
       "      <td>0.0</td>\n",
       "      <td>-0.807447</td>\n",
       "    </tr>\n",
       "    <tr>\n",
       "      <th>26</th>\n",
       "      <td>kunde timmermann vertriebs marketingberatung a...</td>\n",
       "      <td>0.021277</td>\n",
       "      <td>0.000000</td>\n",
       "      <td>0.500000</td>\n",
       "      <td>0.0</td>\n",
       "      <td>-0.489362</td>\n",
       "    </tr>\n",
       "    <tr>\n",
       "      <th>36</th>\n",
       "      <td>ermittlung voraussetzungen verbindung klienten...</td>\n",
       "      <td>0.117021</td>\n",
       "      <td>0.111111</td>\n",
       "      <td>0.500000</td>\n",
       "      <td>0.0</td>\n",
       "      <td>-0.385934</td>\n",
       "    </tr>\n",
       "    <tr>\n",
       "      <th>49</th>\n",
       "      <td>switch nebengebäude port vlan drucker geändert...</td>\n",
       "      <td>0.117021</td>\n",
       "      <td>0.000000</td>\n",
       "      <td>0.500000</td>\n",
       "      <td>0.0</td>\n",
       "      <td>-0.441489</td>\n",
       "    </tr>\n",
       "    <tr>\n",
       "      <th>...</th>\n",
       "      <td>...</td>\n",
       "      <td>...</td>\n",
       "      <td>...</td>\n",
       "      <td>...</td>\n",
       "      <td>...</td>\n",
       "      <td>...</td>\n",
       "    </tr>\n",
       "    <tr>\n",
       "      <th>500</th>\n",
       "      <td>erstellung agenda ticket öffnen erstellt visom...</td>\n",
       "      <td>0.031915</td>\n",
       "      <td>0.000000</td>\n",
       "      <td>0.500000</td>\n",
       "      <td>0.0</td>\n",
       "      <td>-0.484043</td>\n",
       "    </tr>\n",
       "    <tr>\n",
       "      <th>521</th>\n",
       "      <td>einrichtung hardware impfzentrum wilhelmshaven...</td>\n",
       "      <td>0.095745</td>\n",
       "      <td>0.000000</td>\n",
       "      <td>0.500000</td>\n",
       "      <td>0.0</td>\n",
       "      <td>-0.452128</td>\n",
       "    </tr>\n",
       "    <tr>\n",
       "      <th>637</th>\n",
       "      <td>kunde wünscht bereitstellung nfon tk anlage ti...</td>\n",
       "      <td>0.063830</td>\n",
       "      <td>0.000000</td>\n",
       "      <td>0.500000</td>\n",
       "      <td>0.0</td>\n",
       "      <td>-0.468085</td>\n",
       "    </tr>\n",
       "    <tr>\n",
       "      <th>648</th>\n",
       "      <td>guten morgen gab rückmeldung mail</td>\n",
       "      <td>0.000000</td>\n",
       "      <td>0.000000</td>\n",
       "      <td>0.500000</td>\n",
       "      <td>0.0</td>\n",
       "      <td>-0.500000</td>\n",
       "    </tr>\n",
       "    <tr>\n",
       "      <th>649</th>\n",
       "      <td>guten morgen gab rückmeldung mail</td>\n",
       "      <td>0.000000</td>\n",
       "      <td>0.000000</td>\n",
       "      <td>0.500000</td>\n",
       "      <td>0.0</td>\n",
       "      <td>-0.500000</td>\n",
       "    </tr>\n",
       "  </tbody>\n",
       "</table>\n",
       "<p>156 rows × 6 columns</p>\n",
       "</div>"
      ],
      "text/plain": [
       "                                   Problem Description  occurrence_TIFIDF  \\\n",
       "3    geehrter herr bartels funktioniert neues noteb...           0.148936   \n",
       "7    hallo bitte folgenden ordner stand vorher wied...           0.085106   \n",
       "26   kunde timmermann vertriebs marketingberatung a...           0.021277   \n",
       "36   ermittlung voraussetzungen verbindung klienten...           0.117021   \n",
       "49   switch nebengebäude port vlan drucker geändert...           0.117021   \n",
       "..                                                 ...                ...   \n",
       "500  erstellung agenda ticket öffnen erstellt visom...           0.031915   \n",
       "521  einrichtung hardware impfzentrum wilhelmshaven...           0.095745   \n",
       "637  kunde wünscht bereitstellung nfon tk anlage ti...           0.063830   \n",
       "648                  guten morgen gab rückmeldung mail           0.000000   \n",
       "649                  guten morgen gab rückmeldung mail           0.000000   \n",
       "\n",
       "     occurrence_BERT  Polarity  Subjectivity     Score  \n",
       "3           0.138889  0.616667           0.0 -0.472754  \n",
       "7           0.000000  0.850000           0.0 -0.807447  \n",
       "26          0.000000  0.500000           0.0 -0.489362  \n",
       "36          0.111111  0.500000           0.0 -0.385934  \n",
       "49          0.000000  0.500000           0.0 -0.441489  \n",
       "..               ...       ...           ...       ...  \n",
       "500         0.000000  0.500000           0.0 -0.484043  \n",
       "521         0.000000  0.500000           0.0 -0.452128  \n",
       "637         0.000000  0.500000           0.0 -0.468085  \n",
       "648         0.000000  0.500000           0.0 -0.500000  \n",
       "649         0.000000  0.500000           0.0 -0.500000  \n",
       "\n",
       "[156 rows x 6 columns]"
      ]
     },
     "execution_count": 33,
     "metadata": {},
     "output_type": "execute_result"
    }
   ],
   "source": [
    "df_copy"
   ]
  },
  {
   "cell_type": "code",
   "execution_count": 34,
   "metadata": {},
   "outputs": [],
   "source": [
    "Group = []\n",
    "for i in df_copy['Score']:\n",
    "    if i>np.percentile(df_copy['Score'],80):\n",
    "        group = 1\n",
    "    elif (i<np.percentile(df_copy['Score'],80))&(i>np.percentile(df_copy['Score'],50)):\n",
    "        group = 2\n",
    "    else:\n",
    "        group = 3\n",
    "    Group.append(group)\n",
    "    \n",
    "df_copy['Priority']=Group"
   ]
  },
  {
   "cell_type": "code",
   "execution_count": 35,
   "metadata": {},
   "outputs": [
    {
     "data": {
      "text/html": [
       "<div>\n",
       "<style scoped>\n",
       "    .dataframe tbody tr th:only-of-type {\n",
       "        vertical-align: middle;\n",
       "    }\n",
       "\n",
       "    .dataframe tbody tr th {\n",
       "        vertical-align: top;\n",
       "    }\n",
       "\n",
       "    .dataframe thead th {\n",
       "        text-align: right;\n",
       "    }\n",
       "</style>\n",
       "<table border=\"1\" class=\"dataframe\">\n",
       "  <thead>\n",
       "    <tr style=\"text-align: right;\">\n",
       "      <th></th>\n",
       "      <th>Problem Description</th>\n",
       "      <th>occurrence_TIFIDF</th>\n",
       "      <th>occurrence_BERT</th>\n",
       "      <th>Polarity</th>\n",
       "      <th>Subjectivity</th>\n",
       "      <th>Score</th>\n",
       "      <th>Priority</th>\n",
       "    </tr>\n",
       "  </thead>\n",
       "  <tbody>\n",
       "    <tr>\n",
       "      <th>3</th>\n",
       "      <td>geehrter herr bartels funktioniert neues noteb...</td>\n",
       "      <td>0.148936</td>\n",
       "      <td>0.138889</td>\n",
       "      <td>0.616667</td>\n",
       "      <td>0.0</td>\n",
       "      <td>-0.472754</td>\n",
       "      <td>3</td>\n",
       "    </tr>\n",
       "    <tr>\n",
       "      <th>7</th>\n",
       "      <td>hallo bitte folgenden ordner stand vorher wied...</td>\n",
       "      <td>0.085106</td>\n",
       "      <td>0.000000</td>\n",
       "      <td>0.850000</td>\n",
       "      <td>0.0</td>\n",
       "      <td>-0.807447</td>\n",
       "      <td>3</td>\n",
       "    </tr>\n",
       "    <tr>\n",
       "      <th>26</th>\n",
       "      <td>kunde timmermann vertriebs marketingberatung a...</td>\n",
       "      <td>0.021277</td>\n",
       "      <td>0.000000</td>\n",
       "      <td>0.500000</td>\n",
       "      <td>0.0</td>\n",
       "      <td>-0.489362</td>\n",
       "      <td>3</td>\n",
       "    </tr>\n",
       "  </tbody>\n",
       "</table>\n",
       "</div>"
      ],
      "text/plain": [
       "                                  Problem Description  occurrence_TIFIDF  \\\n",
       "3   geehrter herr bartels funktioniert neues noteb...           0.148936   \n",
       "7   hallo bitte folgenden ordner stand vorher wied...           0.085106   \n",
       "26  kunde timmermann vertriebs marketingberatung a...           0.021277   \n",
       "\n",
       "    occurrence_BERT  Polarity  Subjectivity     Score  Priority  \n",
       "3          0.138889  0.616667           0.0 -0.472754         3  \n",
       "7          0.000000  0.850000           0.0 -0.807447         3  \n",
       "26         0.000000  0.500000           0.0 -0.489362         3  "
      ]
     },
     "execution_count": 35,
     "metadata": {},
     "output_type": "execute_result"
    }
   ],
   "source": [
    "df_copy.head(3)"
   ]
  },
  {
   "cell_type": "markdown",
   "metadata": {},
   "source": [
    "**As a result we now have labeled data**"
   ]
  },
  {
   "cell_type": "markdown",
   "metadata": {},
   "source": [
    "## 5.2 Training the Classifier"
   ]
  },
  {
   "cell_type": "markdown",
   "metadata": {},
   "source": [
    "As a first step we split our dataset"
   ]
  },
  {
   "cell_type": "code",
   "execution_count": 36,
   "metadata": {},
   "outputs": [],
   "source": [
    "from sklearn import model_selection, preprocessing, linear_model, naive_bayes, metrics, svm\n",
    "train_x, test_x, train_y, test_y = model_selection.train_test_split(df_copy['Problem Description'], df_copy['Priority'], test_size = 0.2)"
   ]
  },
  {
   "cell_type": "markdown",
   "metadata": {},
   "source": [
    "Now before we use the textual data described in the column Problem Description, we need to transform it into numerical data. There are many different ways out there to embed textual into numerical data. Simple ideas are count-vectors such as One-Hot encoding or TF-IDF, as used earlier. More advanced techniques include pre-trained embeddings such as Word2Vec or GloVe. The most recent approaches contextualise the individual words and use pre-trained language models such as BERT or GPT. For the purpose of this task, we stick to n-grams using word chunks. This is also due to the fact that we cleaned this data before. Therefore most of the work is already done."
   ]
  },
  {
   "cell_type": "code",
   "execution_count": 37,
   "metadata": {},
   "outputs": [],
   "source": [
    "# ngram level tf-idf \n",
    "ngram = TfidfVectorizer(analyzer='word', ngram_range=(1,3))\n",
    "ngram.fit(df_copy['Problem Description'])\n",
    "xtrain_ngram =  ngram.transform(train_x)\n",
    "xtest_ngram =  ngram.transform(test_x)"
   ]
  },
  {
   "cell_type": "markdown",
   "metadata": {},
   "source": [
    "As a next step, we are defining a function, which gives us the accuracy of our classifier as an output. This allows us to compare different models"
   ]
  },
  {
   "cell_type": "code",
   "execution_count": 38,
   "metadata": {},
   "outputs": [],
   "source": [
    "def train_model(classifier, x_train, y_train, x_test):\n",
    "    # fit the training dataset on the classifier\n",
    "    classifier.fit(x_train, y_train)\n",
    "    \n",
    "    # predict the labels on validation dataset\n",
    "    predictions = classifier.predict(x_test)\n",
    "    return metrics.accuracy_score(predictions, test_y)"
   ]
  },
  {
   "cell_type": "code",
   "execution_count": 39,
   "metadata": {},
   "outputs": [
    {
     "name": "stdout",
     "output_type": "stream",
     "text": [
      "The accuracy of Naive-Bayes Classifier is:  0.65625\n",
      "The accuracy of Logistic Regression Classifier is: :  0.65625\n",
      "The accuracy of Support Vector Machine is:  0.6875\n"
     ]
    }
   ],
   "source": [
    "# Naive Bayes\n",
    "accuracy_nb = train_model(naive_bayes.MultinomialNB(), xtrain_ngram, train_y, xtest_ngram)\n",
    "print (\"The accuracy of Naive-Bayes Classifier is: \", accuracy_nb)\n",
    "\n",
    "# Linear Classifier\n",
    "accuracy_lr = train_model(linear_model.LogisticRegression(), xtrain_ngram, train_y, xtest_ngram)\n",
    "print (\"The accuracy of Logistic Regression Classifier is: : \", accuracy_lr)\n",
    "\n",
    "# SVM\n",
    "accuracy_svm = train_model(svm.SVC(), xtrain_ngram, train_y, xtest_ngram)\n",
    "print (\"The accuracy of Support Vector Machine is: \", accuracy_svm)"
   ]
  },
  {
   "cell_type": "markdown",
   "metadata": {},
   "source": [
    "# 6. Closing Remarks"
   ]
  },
  {
   "cell_type": "markdown",
   "metadata": {},
   "source": [
    "To summarise, we worked on the following aspects in this code:<br>\n",
    "- First, we loaded the data from the SQL database.\n",
    "- Then we used various analyses and inspections to understand the data\n",
    "- This understanding helped us to clean the data and limit it to the necessary information\n",
    "- In section 2.3, we gained some insights into the data through statistical analysis and were able to give the company some insights into their ticketing system.\n",
    "- We then addressed the main problem and tried to train a classifier that automatically prioritizes incoming customer messages. <br>\n",
    "\n",
    "For this step several substeps were necessary. Among other things, we first extracted the text modules that describe the problem using cleaning processes. Based on these problem descriptions, we performed a labeling of the problems. Thus, we determined that a problem is urgent if it contains subjective negative language and contains certain keywords. We were able to determine these using the TF-IDF method as well as the pre-trained Language Model."
   ]
  },
  {
   "cell_type": "markdown",
   "metadata": {},
   "source": [
    "Now that we had the prioritized problems, we could use this data to train and ultimately select a classification model. This achieved an accuracy of"
   ]
  },
  {
   "cell_type": "code",
   "execution_count": 40,
   "metadata": {},
   "outputs": [
    {
     "name": "stdout",
     "output_type": "stream",
     "text": [
      "68.75%\n"
     ]
    }
   ],
   "source": [
    "print(f'{max(accuracy_svm,accuracy_lr,accuracy_nb)*100}%')"
   ]
  },
  {
   "cell_type": "markdown",
   "metadata": {},
   "source": [
    "------\n",
    "Future steps in this project could include the following:\n",
    "- The data is somewhat sparse, so more data would be helpful.\n",
    "- Our label process is relatively subjective. A non-automatic and thus representative prioritization of problems would be very helpful and increase usability.\n",
    "- Furthermore, the classification models could be optimized. For example, by changing the coding of text-based data or other models."
   ]
  }
 ],
 "metadata": {
  "kernelspec": {
   "display_name": "Python 3",
   "language": "python",
   "name": "python3"
  },
  "language_info": {
   "codemirror_mode": {
    "name": "ipython",
    "version": 3
   },
   "file_extension": ".py",
   "mimetype": "text/x-python",
   "name": "python",
   "nbconvert_exporter": "python",
   "pygments_lexer": "ipython3",
   "version": "3.8.5"
  }
 },
 "nbformat": 4,
 "nbformat_minor": 4
}
